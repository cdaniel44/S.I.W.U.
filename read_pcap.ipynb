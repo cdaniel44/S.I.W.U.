{
 "cells": [
  {
   "cell_type": "code",
   "execution_count": null,
   "metadata": {
    "scrolled": true
   },
   "outputs": [],
   "source": [
    "#!/usr/local/bin/python3.6\n",
    "\n",
    "import numpy as np\n",
    "import matplotlib.pyplot as plt\n",
    "\n",
    "from keras.models import Sequential\n",
    "from keras.layers.core import Dense, Dropout, Activation\n",
    "from keras.utils import np_utils\n",
    "from scapy.all import *\n",
    "\n",
    "packets = rdpcap('./pcap/test.pcapng')"
   ]
  },
  {
   "cell_type": "code",
   "execution_count": null,
   "metadata": {
    "scrolled": true
   },
   "outputs": [],
   "source": [
    "#traitement des paquets ###############################################\n",
    "\n",
    "\n",
    "i = 0\n",
    "tableau = []\n",
    "for y in range(len(packets)+1):\n",
    "    tableau.append([\"\" for y in range(27)])\n",
    "\n",
    "\n",
    "for packet in packets:\n",
    "    #packet.show()\n",
    "    ###[ Ethernet ]###\n",
    "    tableau[i][0] = packet[0].dst\n",
    "    tableau[i][1] = packet[0].src\n",
    "    tableau[i][2] = packet[0].type\n",
    "    ###[ IP ]###\n",
    "    tableau[i][3] = packet[1].version\n",
    "    tableau[i][4] = packet[1].ihl\n",
    "    tableau[i][5] = packet[1].tos\n",
    "    tableau[i][6] = packet[1].len\n",
    "    tableau[i][7] = packet[1].id\n",
    "    tableau[i][8] = packet[1].flags\n",
    "    tableau[i][9] = packet[1].frag\n",
    "    tableau[i][10] = packet[1].ttl\n",
    "    tableau[i][11] = packet[1].proto\n",
    "    tableau[i][12] = packet[1].chksum\n",
    "    tableau[i][13] = packet[1].src\n",
    "    tableau[i][14] = packet[1].dst\n",
    "    ###[ TCP ]###\n",
    "    tableau[i][15] = packet[2].sport\n",
    "    tableau[i][16] = packet[2].dport\n",
    "    tableau[i][17] = packet[2].seq\n",
    "    tableau[i][18] = packet[2].ack\n",
    "    tableau[i][19] = packet[2].dataofs\n",
    "    tableau[i][20] = packet[2].reserved\n",
    "    tableau[i][21] = packet[2].flags\n",
    "    tableau[i][22] = packet[2].window\n",
    "    tableau[i][23] = packet[2].chksum\n",
    "    tableau[i][24] = packet[2].urgptr\n",
    "    if packet[2].options is not None:\n",
    "        tableau[i][25] = packet[2].options\n",
    "    else:\n",
    "        tableau[i][25] = \"\"\n",
    "    ###[ Raw ]###\n",
    "    if \"Raw\" in packet:\n",
    "        tableau[i][26] = packet[3].load\n",
    "    else:\n",
    "        tableau[i][26] = \"\"\n",
    "\n",
    "    print(tableau[i][26])\n",
    "    i += 1\n",
    "    \n",
    "\n"
   ]
  },
  {
   "cell_type": "code",
   "execution_count": null,
   "metadata": {},
   "outputs": [],
   "source": [
    "'''\n",
    "print(packets[4854][2].load)\n",
    "print(\"#######\")\n",
    "print(tableau)\n",
    "'''\n",
    "\n",
    "for test in tableau:\n",
    "    \n",
    "    if re.search('\\.\\.\\/', str(test)):\n",
    "        print(test)\n",
    "    elif re.search('Nikto', str(test)):\n",
    "        print(test)\n",
    "    elif re.search('cmd=', str(test)):\n",
    "        print(test)"
   ]
  },
  {
   "cell_type": "code",
   "execution_count": null,
   "metadata": {},
   "outputs": [],
   "source": [
    "for i in range(20):\n",
    "    #afficher 20 paquets et leur menace "
   ]
  },
  {
   "cell_type": "code",
   "execution_count": null,
   "metadata": {},
   "outputs": [],
   "source": [
    "# reshape éventuel ###############################################\n",
    "\n",
    "X_train = X_train.reshape(60000, 784)\n",
    "X_test = X_test.reshape(10000, 784)\n",
    "X_train = X_train.astype('float32')\n",
    "X_test = X_test.astype('float32')\n",
    "X_train /= 255\n",
    "X_test /= 255"
   ]
  },
  {
   "cell_type": "code",
   "execution_count": null,
   "metadata": {},
   "outputs": [],
   "source": [
    "#mettre dans une variable la menace 0 ou 1"
   ]
  },
  {
   "cell_type": "code",
   "execution_count": null,
   "metadata": {},
   "outputs": [],
   "source": [
    "# création du modèle \n",
    "\n",
    "model = Sequential()\n",
    "model.add(Dense(512, input_shape=(784,)))\n",
    "model.add(Activation('relu')) # An \"activation\" is just a non-linear function applied to the output\n",
    "                              # of the layer above. Here, with a \"rectified linear unit\",\n",
    "                              # we clamp all values below 0 to 0.\n",
    "                           \n",
    "model.add(Dropout(0.2))   # Dropout helps protect the model from memorizing or \"overfitting\" the training data\n",
    "model.add(Dense(512))\n",
    "model.add(Activation('relu'))\n",
    "model.add(Dropout(0.2))\n",
    "model.add(Dense(10))\n",
    "model.add(Activation('softmax')) # This special \"softmax\" activation among other things,\n",
    "                                 # ensures the output is a valid probaility distribution, that is\n",
    "                                 # that its values are all non-negative and sum to 1."
   ]
  },
  {
   "cell_type": "code",
   "execution_count": null,
   "metadata": {},
   "outputs": [],
   "source": [
    "# compilation du model ###############################################\n",
    "\n",
    "model.compile(loss='categorical_crossentropy', optimizer='adam', metrics=['accuracy'])"
   ]
  },
  {
   "cell_type": "code",
   "execution_count": null,
   "metadata": {},
   "outputs": [],
   "source": [
    "# training  ###############################################\n",
    "\n",
    "model.fit(X_train, Y_train, batch_size=128, nb_epoch=4, verbose=1,\n",
    "         validation_data=(X_test, Y_test))"
   ]
  },
  {
   "cell_type": "code",
   "execution_count": null,
   "metadata": {},
   "outputs": [],
   "source": [
    "  # evualtion ###############################################\n",
    "         \n",
    "score = model.evaluate(X_test, Y_test, verbose=0)\n",
    "print('Test score:', score[0])\n",
    "print('Test accuracy:', score[1])"
   ]
  },
  {
   "cell_type": "code",
   "execution_count": null,
   "metadata": {},
   "outputs": [],
   "source": [
    "# résultat ###############################################\n",
    "\n",
    "# The predict_classes function outputs the highest probability class\n",
    "# according to the trained classifier for each input example.\n",
    "predicted_classes = model.predict_classes(X_test)\n",
    "\n",
    "# Check which items we got right / wrong\n",
    "correct_indices = np.nonzero(predicted_classes == y_test)[0]\n",
    "incorrect_indices = np.nonzero(predicted_classes != y_test)[0]"
   ]
  }
 ],
 "metadata": {
  "kernelspec": {
   "display_name": "Python 3",
   "language": "python",
   "name": "python3"
  },
  "language_info": {
   "codemirror_mode": {
    "name": "ipython",
    "version": 3
   },
   "file_extension": ".py",
   "mimetype": "text/x-python",
   "name": "python",
   "nbconvert_exporter": "python",
   "pygments_lexer": "ipython3",
   "version": "3.5.5"
  }
 },
 "nbformat": 4,
 "nbformat_minor": 2
}
